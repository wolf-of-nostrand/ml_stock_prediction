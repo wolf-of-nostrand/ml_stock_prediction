{
 "cells": [
  {
   "cell_type": "markdown",
   "id": "f89403ba-daaf-4dc5-8dab-fd6f2a2ae081",
   "metadata": {},
   "source": [
    "# NLP Sentiment Analysism"
   ]
  },
  {
   "cell_type": "markdown",
   "id": "7401d027-2e18-4ad2-8cd2-642883e5b1ff",
   "metadata": {},
   "source": [
    "Objective:\n",
    "<ul>\n",
    "   <li>We will be using Finnhub API to call Daily News. <br>\n",
    "\n",
    "<li>Use ChatGPT and Hugging Face Financial Sentiment Analysis tools to provide a Sentiment Score <br>\n",
    "\n",
    "<li> Take the sentiment score and assosiat\n",
    "associate the value with a bear or bull emoji <br>\n",
    "\n",
    "</ul>\n"
   ]
  },
  {
   "cell_type": "code",
   "execution_count": null,
   "id": "bfad526a-a429-43bf-928a-861ed9ccfa28",
   "metadata": {},
   "outputs": [],
   "source": []
  }
 ],
 "metadata": {
  "kernelspec": {
   "display_name": "Python 3 (ipykernel)",
   "language": "python",
   "name": "python3"
  },
  "language_info": {
   "codemirror_mode": {
    "name": "ipython",
    "version": 3
   },
   "file_extension": ".py",
   "mimetype": "text/x-python",
   "name": "python",
   "nbconvert_exporter": "python",
   "pygments_lexer": "ipython3",
   "version": "3.9.12"
  }
 },
 "nbformat": 4,
 "nbformat_minor": 5
}

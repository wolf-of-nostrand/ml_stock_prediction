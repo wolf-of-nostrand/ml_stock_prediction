{
 "cells": [
  {
   "cell_type": "markdown",
   "id": "70c2aadc-fa0a-4df9-bd2e-3a654431e147",
   "metadata": {},
   "source": [
    "# Stock Market Prediction"
   ]
  },
  {
   "cell_type": "markdown",
   "id": "1b09ad78-4c8f-48f7-a93b-4b7a3b50b4c8",
   "metadata": {},
   "source": [
    "## About <br>\n",
    "\n",
    "We will be analyzing <code>continuous</code>  float variables to predict stock prices by using historic data. <br>"
   ]
  },
  {
   "cell_type": "markdown",
   "id": "873128f4-ca32-4e74-8e6e-de595ce3c3b6",
   "metadata": {},
   "source": [
    "## Install dependencies libraries "
   ]
  },
  {
   "cell_type": "code",
   "execution_count": 8,
   "id": "83871dd3-932f-41d4-a686-47729359c2a9",
   "metadata": {},
   "outputs": [
    {
     "name": "stdout",
     "output_type": "stream",
     "text": [
      "\n",
      "\u001b[1m[\u001b[0m\u001b[34;49mnotice\u001b[0m\u001b[1;39;49m]\u001b[0m\u001b[39;49m A new release of pip available: \u001b[0m\u001b[31;49m22.3.1\u001b[0m\u001b[39;49m -> \u001b[0m\u001b[32;49m23.0.1\u001b[0m\n",
      "\u001b[1m[\u001b[0m\u001b[34;49mnotice\u001b[0m\u001b[1;39;49m]\u001b[0m\u001b[39;49m To update, run: \u001b[0m\u001b[32;49mpip install --upgrade pip\u001b[0m\n",
      "Requirement already satisfied: pandas in /home/ubuntu/anaconda3/envs/jupyter/lib/python3.9/site-packages (1.5.0)\n",
      "Requirement already satisfied: pytz>=2020.1 in /home/ubuntu/anaconda3/envs/jupyter/lib/python3.9/site-packages (from pandas) (2021.3)\n",
      "Requirement already satisfied: numpy>=1.20.3 in /home/ubuntu/anaconda3/envs/jupyter/lib/python3.9/site-packages (from pandas) (1.22.3)\n",
      "Requirement already satisfied: python-dateutil>=2.8.1 in /home/ubuntu/anaconda3/envs/jupyter/lib/python3.9/site-packages (from pandas) (2.8.2)\n",
      "Requirement already satisfied: six>=1.5 in /home/ubuntu/anaconda3/envs/jupyter/lib/python3.9/site-packages (from python-dateutil>=2.8.1->pandas) (1.16.0)\n",
      "\n",
      "\u001b[1m[\u001b[0m\u001b[34;49mnotice\u001b[0m\u001b[1;39;49m]\u001b[0m\u001b[39;49m A new release of pip available: \u001b[0m\u001b[31;49m22.3.1\u001b[0m\u001b[39;49m -> \u001b[0m\u001b[32;49m23.0.1\u001b[0m\n",
      "\u001b[1m[\u001b[0m\u001b[34;49mnotice\u001b[0m\u001b[1;39;49m]\u001b[0m\u001b[39;49m To update, run: \u001b[0m\u001b[32;49mpip install --upgrade pip\u001b[0m\n"
     ]
    }
   ],
   "source": [
    "! pip install pip install finnhub-python -q\n",
    "! pip install pandas"
   ]
  },
  {
   "cell_type": "markdown",
   "id": "9c57759a-6506-4fcb-9591-bdfdbcfee30f",
   "metadata": {},
   "source": [
    "## Import libraries"
   ]
  },
  {
   "cell_type": "code",
   "execution_count": 11,
   "id": "44c43b83-62e7-48a4-80bb-7cb3618dea0b",
   "metadata": {},
   "outputs": [],
   "source": [
    "import numpy as np\n",
    "import pandas as pd\n",
    "import matplotlib.pyplot as plt\n",
    "import finnhub"
   ]
  },
  {
   "cell_type": "markdown",
   "id": "ac81052b-6f0d-4dea-85df-aa66c531d656",
   "metadata": {},
   "source": [
    "## Explore Finnhub API"
   ]
  },
  {
   "cell_type": "code",
   "execution_count": 13,
   "id": "58411097-23c9-4909-bfea-4ee1ca8f2540",
   "metadata": {},
   "outputs": [],
   "source": [
    "# api key\n",
    "my_key = \"insert your ap key\"\n",
    "finnhub_client = finnhub.Client(api_key=my_key)"
   ]
  },
  {
   "cell_type": "code",
   "execution_count": 19,
   "id": "78a75be3-1adf-4158-9c4b-d984c9372d08",
   "metadata": {},
   "outputs": [
    {
     "name": "stdout",
     "output_type": "stream",
     "text": [
      "{'c': [8.46, 8.46, 8.69, 9.32, 10.19, 10.92, 10.39, 10.04, 8.33], 'h': [8.49, 8.75, 8.78, 9.32, 10.59, 10.93, 10.9552, 10.525, 9.44], 'l': [8.0035, 8.43, 8.48, 8.61, 9.82, 10.34, 10.26, 9.96, 8.315], 'o': [8.05, 8.6, 8.65, 8.65, 9.83, 10.46, 10.71, 10.41, 9.28], 's': 'ok', 't': [1590969600, 1591056000, 1591142400, 1591228800, 1591315200, 1591574400, 1591660800, 1591747200, 1591833600], 'v': [8697221, 10095311, 8720460, 13015730, 22142935, 13319489, 12309998, 10960531, 18812426]}\n"
     ]
    }
   ],
   "source": [
    "# Stock candles\n",
    "res = finnhub_client.stock_candles('x', 'D', 1590988249, 1591852249)\n",
    "print(res)"
   ]
  },
  {
   "cell_type": "code",
   "execution_count": 27,
   "id": "fd8e625f-22b2-4cf7-8e2d-8fdd485dae2d",
   "metadata": {},
   "outputs": [
    {
     "data": {
      "text/html": [
       "<div>\n",
       "<style scoped>\n",
       "    .dataframe tbody tr th:only-of-type {\n",
       "        vertical-align: middle;\n",
       "    }\n",
       "\n",
       "    .dataframe tbody tr th {\n",
       "        vertical-align: top;\n",
       "    }\n",
       "\n",
       "    .dataframe thead th {\n",
       "        text-align: right;\n",
       "    }\n",
       "</style>\n",
       "<table border=\"1\" class=\"dataframe\">\n",
       "  <thead>\n",
       "    <tr style=\"text-align: right;\">\n",
       "      <th></th>\n",
       "      <th>c</th>\n",
       "      <th>h</th>\n",
       "      <th>l</th>\n",
       "      <th>o</th>\n",
       "      <th>s</th>\n",
       "      <th>t</th>\n",
       "      <th>v</th>\n",
       "    </tr>\n",
       "  </thead>\n",
       "  <tbody>\n",
       "    <tr>\n",
       "      <th>0</th>\n",
       "      <td>8.46</td>\n",
       "      <td>8.4900</td>\n",
       "      <td>8.0035</td>\n",
       "      <td>8.05</td>\n",
       "      <td>ok</td>\n",
       "      <td>1590969600</td>\n",
       "      <td>8697221</td>\n",
       "    </tr>\n",
       "    <tr>\n",
       "      <th>1</th>\n",
       "      <td>8.46</td>\n",
       "      <td>8.7500</td>\n",
       "      <td>8.4300</td>\n",
       "      <td>8.60</td>\n",
       "      <td>ok</td>\n",
       "      <td>1591056000</td>\n",
       "      <td>10095311</td>\n",
       "    </tr>\n",
       "    <tr>\n",
       "      <th>2</th>\n",
       "      <td>8.69</td>\n",
       "      <td>8.7800</td>\n",
       "      <td>8.4800</td>\n",
       "      <td>8.65</td>\n",
       "      <td>ok</td>\n",
       "      <td>1591142400</td>\n",
       "      <td>8720460</td>\n",
       "    </tr>\n",
       "    <tr>\n",
       "      <th>3</th>\n",
       "      <td>9.32</td>\n",
       "      <td>9.3200</td>\n",
       "      <td>8.6100</td>\n",
       "      <td>8.65</td>\n",
       "      <td>ok</td>\n",
       "      <td>1591228800</td>\n",
       "      <td>13015730</td>\n",
       "    </tr>\n",
       "    <tr>\n",
       "      <th>4</th>\n",
       "      <td>10.19</td>\n",
       "      <td>10.5900</td>\n",
       "      <td>9.8200</td>\n",
       "      <td>9.83</td>\n",
       "      <td>ok</td>\n",
       "      <td>1591315200</td>\n",
       "      <td>22142935</td>\n",
       "    </tr>\n",
       "    <tr>\n",
       "      <th>5</th>\n",
       "      <td>10.92</td>\n",
       "      <td>10.9300</td>\n",
       "      <td>10.3400</td>\n",
       "      <td>10.46</td>\n",
       "      <td>ok</td>\n",
       "      <td>1591574400</td>\n",
       "      <td>13319489</td>\n",
       "    </tr>\n",
       "    <tr>\n",
       "      <th>6</th>\n",
       "      <td>10.39</td>\n",
       "      <td>10.9552</td>\n",
       "      <td>10.2600</td>\n",
       "      <td>10.71</td>\n",
       "      <td>ok</td>\n",
       "      <td>1591660800</td>\n",
       "      <td>12309998</td>\n",
       "    </tr>\n",
       "    <tr>\n",
       "      <th>7</th>\n",
       "      <td>10.04</td>\n",
       "      <td>10.5250</td>\n",
       "      <td>9.9600</td>\n",
       "      <td>10.41</td>\n",
       "      <td>ok</td>\n",
       "      <td>1591747200</td>\n",
       "      <td>10960531</td>\n",
       "    </tr>\n",
       "    <tr>\n",
       "      <th>8</th>\n",
       "      <td>8.33</td>\n",
       "      <td>9.4400</td>\n",
       "      <td>8.3150</td>\n",
       "      <td>9.28</td>\n",
       "      <td>ok</td>\n",
       "      <td>1591833600</td>\n",
       "      <td>18812426</td>\n",
       "    </tr>\n",
       "  </tbody>\n",
       "</table>\n",
       "</div>"
      ],
      "text/plain": [
       "       c        h        l      o   s           t         v\n",
       "0   8.46   8.4900   8.0035   8.05  ok  1590969600   8697221\n",
       "1   8.46   8.7500   8.4300   8.60  ok  1591056000  10095311\n",
       "2   8.69   8.7800   8.4800   8.65  ok  1591142400   8720460\n",
       "3   9.32   9.3200   8.6100   8.65  ok  1591228800  13015730\n",
       "4  10.19  10.5900   9.8200   9.83  ok  1591315200  22142935\n",
       "5  10.92  10.9300  10.3400  10.46  ok  1591574400  13319489\n",
       "6  10.39  10.9552  10.2600  10.71  ok  1591660800  12309998\n",
       "7  10.04  10.5250   9.9600  10.41  ok  1591747200  10960531\n",
       "8   8.33   9.4400   8.3150   9.28  ok  1591833600  18812426"
      ]
     },
     "execution_count": 27,
     "metadata": {},
     "output_type": "execute_result"
    }
   ],
   "source": [
    "df = pd.DataFrame(res)\n",
    "df"
   ]
  },
  {
   "cell_type": "code",
   "execution_count": 31,
   "id": "8f52eb77-c43e-4976-ab72-f8a18969480a",
   "metadata": {},
   "outputs": [
    {
     "data": {
      "text/html": [
       "<div>\n",
       "<style scoped>\n",
       "    .dataframe tbody tr th:only-of-type {\n",
       "        vertical-align: middle;\n",
       "    }\n",
       "\n",
       "    .dataframe tbody tr th {\n",
       "        vertical-align: top;\n",
       "    }\n",
       "\n",
       "    .dataframe thead th {\n",
       "        text-align: right;\n",
       "    }\n",
       "</style>\n",
       "<table border=\"1\" class=\"dataframe\">\n",
       "  <thead>\n",
       "    <tr style=\"text-align: right;\">\n",
       "      <th></th>\n",
       "      <th>metric</th>\n",
       "      <th>metricType</th>\n",
       "      <th>series</th>\n",
       "      <th>symbol</th>\n",
       "    </tr>\n",
       "  </thead>\n",
       "  <tbody>\n",
       "    <tr>\n",
       "      <th>10DayAverageTradingVolume</th>\n",
       "      <td>58.73874</td>\n",
       "      <td>perShare</td>\n",
       "      <td>NaN</td>\n",
       "      <td>AAPL</td>\n",
       "    </tr>\n",
       "    <tr>\n",
       "      <th>13WeekPriceReturnDaily</th>\n",
       "      <td>4.45976</td>\n",
       "      <td>perShare</td>\n",
       "      <td>NaN</td>\n",
       "      <td>AAPL</td>\n",
       "    </tr>\n",
       "    <tr>\n",
       "      <th>26WeekPriceReturnDaily</th>\n",
       "      <td>-5.6364</td>\n",
       "      <td>perShare</td>\n",
       "      <td>NaN</td>\n",
       "      <td>AAPL</td>\n",
       "    </tr>\n",
       "    <tr>\n",
       "      <th>3MonthAverageTradingVolume</th>\n",
       "      <td>1480.10749</td>\n",
       "      <td>perShare</td>\n",
       "      <td>NaN</td>\n",
       "      <td>AAPL</td>\n",
       "    </tr>\n",
       "    <tr>\n",
       "      <th>52WeekHigh</th>\n",
       "      <td>179.61</td>\n",
       "      <td>perShare</td>\n",
       "      <td>NaN</td>\n",
       "      <td>AAPL</td>\n",
       "    </tr>\n",
       "    <tr>\n",
       "      <th>52WeekHighDate</th>\n",
       "      <td>2022-03-30</td>\n",
       "      <td>perShare</td>\n",
       "      <td>NaN</td>\n",
       "      <td>AAPL</td>\n",
       "    </tr>\n",
       "    <tr>\n",
       "      <th>52WeekLow</th>\n",
       "      <td>124.18</td>\n",
       "      <td>perShare</td>\n",
       "      <td>NaN</td>\n",
       "      <td>AAPL</td>\n",
       "    </tr>\n",
       "    <tr>\n",
       "      <th>52WeekLowDate</th>\n",
       "      <td>2023-01-03</td>\n",
       "      <td>perShare</td>\n",
       "      <td>NaN</td>\n",
       "      <td>AAPL</td>\n",
       "    </tr>\n",
       "    <tr>\n",
       "      <th>52WeekPriceReturnDaily</th>\n",
       "      <td>-6.32097</td>\n",
       "      <td>perShare</td>\n",
       "      <td>NaN</td>\n",
       "      <td>AAPL</td>\n",
       "    </tr>\n",
       "    <tr>\n",
       "      <th>5DayPriceReturnDaily</th>\n",
       "      <td>-1.67516</td>\n",
       "      <td>perShare</td>\n",
       "      <td>NaN</td>\n",
       "      <td>AAPL</td>\n",
       "    </tr>\n",
       "  </tbody>\n",
       "</table>\n",
       "</div>"
      ],
      "text/plain": [
       "                                metric metricType series symbol\n",
       "10DayAverageTradingVolume     58.73874   perShare    NaN   AAPL\n",
       "13WeekPriceReturnDaily         4.45976   perShare    NaN   AAPL\n",
       "26WeekPriceReturnDaily         -5.6364   perShare    NaN   AAPL\n",
       "3MonthAverageTradingVolume  1480.10749   perShare    NaN   AAPL\n",
       "52WeekHigh                      179.61   perShare    NaN   AAPL\n",
       "52WeekHighDate              2022-03-30   perShare    NaN   AAPL\n",
       "52WeekLow                       124.18   perShare    NaN   AAPL\n",
       "52WeekLowDate               2023-01-03   perShare    NaN   AAPL\n",
       "52WeekPriceReturnDaily        -6.32097   perShare    NaN   AAPL\n",
       "5DayPriceReturnDaily          -1.67516   perShare    NaN   AAPL"
      ]
     },
     "execution_count": 31,
     "metadata": {},
     "output_type": "execute_result"
    }
   ],
   "source": [
    "# financials \n",
    "financials = finnhub_client.company_basic_financials('AAPL', 'all')\n",
    "df_financials = pd.DataFrame(financials)\n",
    "df_financials.head(10)"
   ]
  },
  {
   "cell_type": "markdown",
   "id": "bd9943b0-97e1-4f16-85b0-5e366859c251",
   "metadata": {},
   "source": [
    "# Sources \n",
    "<ul>\n",
    "    <li>Finnhub documentation: <a href=\"https://github.com/Finnhub-Stock-API/finnhub-python\" target=\"_blank\"> finn doc </a>\n",
    "</ul>    "
   ]
  },
  {
   "cell_type": "code",
   "execution_count": null,
   "id": "2fdd7aba-89ed-4b95-ab04-64f9e8ae93f8",
   "metadata": {},
   "outputs": [],
   "source": []
  }
 ],
 "metadata": {
  "kernelspec": {
   "display_name": "Python 3 (ipykernel)",
   "language": "python",
   "name": "python3"
  },
  "language_info": {
   "codemirror_mode": {
    "name": "ipython",
    "version": 3
   },
   "file_extension": ".py",
   "mimetype": "text/x-python",
   "name": "python",
   "nbconvert_exporter": "python",
   "pygments_lexer": "ipython3",
   "version": "3.9.12"
  }
 },
 "nbformat": 4,
 "nbformat_minor": 5
}

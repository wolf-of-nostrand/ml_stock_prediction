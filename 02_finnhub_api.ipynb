{
 "cells": [
  {
   "cell_type": "markdown",
   "id": "70c2aadc-fa0a-4df9-bd2e-3a654431e147",
   "metadata": {},
   "source": [
    "# Stock Market Prediction"
   ]
  },
  {
   "cell_type": "markdown",
   "id": "1b09ad78-4c8f-48f7-a93b-4b7a3b50b4c8",
   "metadata": {},
   "source": [
    "## About <br>\n",
    "\n",
    "We will be analyzing <code>continuous</code>  float variables to predict stock prices by using historic data. <br>"
   ]
  },
  {
   "cell_type": "markdown",
   "id": "873128f4-ca32-4e74-8e6e-de595ce3c3b6",
   "metadata": {},
   "source": [
    "## Install dependencies libraries "
   ]
  },
  {
   "cell_type": "code",
   "execution_count": 8,
   "id": "83871dd3-932f-41d4-a686-47729359c2a9",
   "metadata": {},
   "outputs": [
    {
     "name": "stdout",
     "output_type": "stream",
     "text": [
      "\n",
      "\u001b[1m[\u001b[0m\u001b[34;49mnotice\u001b[0m\u001b[1;39;49m]\u001b[0m\u001b[39;49m A new release of pip available: \u001b[0m\u001b[31;49m22.3.1\u001b[0m\u001b[39;49m -> \u001b[0m\u001b[32;49m23.0.1\u001b[0m\n",
      "\u001b[1m[\u001b[0m\u001b[34;49mnotice\u001b[0m\u001b[1;39;49m]\u001b[0m\u001b[39;49m To update, run: \u001b[0m\u001b[32;49mpip install --upgrade pip\u001b[0m\n",
      "Requirement already satisfied: pandas in /home/ubuntu/anaconda3/envs/jupyter/lib/python3.9/site-packages (1.5.0)\n",
      "Requirement already satisfied: pytz>=2020.1 in /home/ubuntu/anaconda3/envs/jupyter/lib/python3.9/site-packages (from pandas) (2021.3)\n",
      "Requirement already satisfied: numpy>=1.20.3 in /home/ubuntu/anaconda3/envs/jupyter/lib/python3.9/site-packages (from pandas) (1.22.3)\n",
      "Requirement already satisfied: python-dateutil>=2.8.1 in /home/ubuntu/anaconda3/envs/jupyter/lib/python3.9/site-packages (from pandas) (2.8.2)\n",
      "Requirement already satisfied: six>=1.5 in /home/ubuntu/anaconda3/envs/jupyter/lib/python3.9/site-packages (from python-dateutil>=2.8.1->pandas) (1.16.0)\n",
      "\n",
      "\u001b[1m[\u001b[0m\u001b[34;49mnotice\u001b[0m\u001b[1;39;49m]\u001b[0m\u001b[39;49m A new release of pip available: \u001b[0m\u001b[31;49m22.3.1\u001b[0m\u001b[39;49m -> \u001b[0m\u001b[32;49m23.0.1\u001b[0m\n",
      "\u001b[1m[\u001b[0m\u001b[34;49mnotice\u001b[0m\u001b[1;39;49m]\u001b[0m\u001b[39;49m To update, run: \u001b[0m\u001b[32;49mpip install --upgrade pip\u001b[0m\n"
     ]
    }
   ],
   "source": [
    "! pip install pip install finnhub-python -q\n",
    "! pip install pandas"
   ]
  },
  {
   "cell_type": "markdown",
   "id": "9c57759a-6506-4fcb-9591-bdfdbcfee30f",
   "metadata": {},
   "source": [
    "## Import libraries"
   ]
  },
  {
   "cell_type": "code",
   "execution_count": 2,
   "id": "44c43b83-62e7-48a4-80bb-7cb3618dea0b",
   "metadata": {},
   "outputs": [],
   "source": [
    "import numpy as np\n",
    "import pandas as pd\n",
    "import matplotlib.pyplot as plt\n",
    "import finnhub"
   ]
  },
  {
   "cell_type": "markdown",
   "id": "ac81052b-6f0d-4dea-85df-aa66c531d656",
   "metadata": {},
   "source": [
    "## Explore Finnhub API"
   ]
  },
  {
   "cell_type": "code",
   "execution_count": 3,
   "id": "58411097-23c9-4909-bfea-4ee1ca8f2540",
   "metadata": {},
   "outputs": [],
   "source": [
    "# api key\n",
    "my_key = \"enter your own api key\"\n",
    "finnhub_client = finnhub.Client(api_key=my_key)"
   ]
  },
  {
   "cell_type": "code",
   "execution_count": 4,
   "id": "78a75be3-1adf-4158-9c4b-d984c9372d08",
   "metadata": {},
   "outputs": [
    {
     "name": "stdout",
     "output_type": "stream",
     "text": [
      "{'c': [80.4625, 80.835, 81.28, 80.58, 82.875, 83.365, 85.9975, 88.21, 83.975], 'h': [80.5875, 80.86, 81.55, 81.405, 82.9375, 83.4, 86.4025, 88.6925, 87.765], 'l': [79.3025, 79.7325, 80.575, 80.195, 80.8075, 81.83, 83.0025, 86.5225, 83.87], 'o': [79.4375, 80.18625, 81.165, 81.0975, 80.8375, 82.5625, 83.035, 86.975, 87.3275], 's': 'ok', 't': [1590969600, 1591056000, 1591142400, 1591228800, 1591315200, 1591574400, 1591660800, 1591747200, 1591833600], 'v': [81018612, 87642816, 104491216, 87560364, 137250200, 95654536, 147712364, 166651752, 201662452]}\n"
     ]
    }
   ],
   "source": [
    "# Stock candles\n",
    "res = finnhub_client.stock_candles('aapl', 'D', 1590988249, 1591852249)\n",
    "print(res)"
   ]
  },
  {
   "cell_type": "code",
   "execution_count": 5,
   "id": "fd8e625f-22b2-4cf7-8e2d-8fdd485dae2d",
   "metadata": {},
   "outputs": [
    {
     "data": {
      "text/html": [
       "<div>\n",
       "<style scoped>\n",
       "    .dataframe tbody tr th:only-of-type {\n",
       "        vertical-align: middle;\n",
       "    }\n",
       "\n",
       "    .dataframe tbody tr th {\n",
       "        vertical-align: top;\n",
       "    }\n",
       "\n",
       "    .dataframe thead th {\n",
       "        text-align: right;\n",
       "    }\n",
       "</style>\n",
       "<table border=\"1\" class=\"dataframe\">\n",
       "  <thead>\n",
       "    <tr style=\"text-align: right;\">\n",
       "      <th></th>\n",
       "      <th>c</th>\n",
       "      <th>h</th>\n",
       "      <th>l</th>\n",
       "      <th>o</th>\n",
       "      <th>s</th>\n",
       "      <th>t</th>\n",
       "      <th>v</th>\n",
       "    </tr>\n",
       "  </thead>\n",
       "  <tbody>\n",
       "    <tr>\n",
       "      <th>0</th>\n",
       "      <td>80.4625</td>\n",
       "      <td>80.5875</td>\n",
       "      <td>79.3025</td>\n",
       "      <td>79.43750</td>\n",
       "      <td>ok</td>\n",
       "      <td>1590969600</td>\n",
       "      <td>81018612</td>\n",
       "    </tr>\n",
       "    <tr>\n",
       "      <th>1</th>\n",
       "      <td>80.8350</td>\n",
       "      <td>80.8600</td>\n",
       "      <td>79.7325</td>\n",
       "      <td>80.18625</td>\n",
       "      <td>ok</td>\n",
       "      <td>1591056000</td>\n",
       "      <td>87642816</td>\n",
       "    </tr>\n",
       "    <tr>\n",
       "      <th>2</th>\n",
       "      <td>81.2800</td>\n",
       "      <td>81.5500</td>\n",
       "      <td>80.5750</td>\n",
       "      <td>81.16500</td>\n",
       "      <td>ok</td>\n",
       "      <td>1591142400</td>\n",
       "      <td>104491216</td>\n",
       "    </tr>\n",
       "    <tr>\n",
       "      <th>3</th>\n",
       "      <td>80.5800</td>\n",
       "      <td>81.4050</td>\n",
       "      <td>80.1950</td>\n",
       "      <td>81.09750</td>\n",
       "      <td>ok</td>\n",
       "      <td>1591228800</td>\n",
       "      <td>87560364</td>\n",
       "    </tr>\n",
       "    <tr>\n",
       "      <th>4</th>\n",
       "      <td>82.8750</td>\n",
       "      <td>82.9375</td>\n",
       "      <td>80.8075</td>\n",
       "      <td>80.83750</td>\n",
       "      <td>ok</td>\n",
       "      <td>1591315200</td>\n",
       "      <td>137250200</td>\n",
       "    </tr>\n",
       "    <tr>\n",
       "      <th>5</th>\n",
       "      <td>83.3650</td>\n",
       "      <td>83.4000</td>\n",
       "      <td>81.8300</td>\n",
       "      <td>82.56250</td>\n",
       "      <td>ok</td>\n",
       "      <td>1591574400</td>\n",
       "      <td>95654536</td>\n",
       "    </tr>\n",
       "    <tr>\n",
       "      <th>6</th>\n",
       "      <td>85.9975</td>\n",
       "      <td>86.4025</td>\n",
       "      <td>83.0025</td>\n",
       "      <td>83.03500</td>\n",
       "      <td>ok</td>\n",
       "      <td>1591660800</td>\n",
       "      <td>147712364</td>\n",
       "    </tr>\n",
       "    <tr>\n",
       "      <th>7</th>\n",
       "      <td>88.2100</td>\n",
       "      <td>88.6925</td>\n",
       "      <td>86.5225</td>\n",
       "      <td>86.97500</td>\n",
       "      <td>ok</td>\n",
       "      <td>1591747200</td>\n",
       "      <td>166651752</td>\n",
       "    </tr>\n",
       "    <tr>\n",
       "      <th>8</th>\n",
       "      <td>83.9750</td>\n",
       "      <td>87.7650</td>\n",
       "      <td>83.8700</td>\n",
       "      <td>87.32750</td>\n",
       "      <td>ok</td>\n",
       "      <td>1591833600</td>\n",
       "      <td>201662452</td>\n",
       "    </tr>\n",
       "  </tbody>\n",
       "</table>\n",
       "</div>"
      ],
      "text/plain": [
       "         c        h        l         o   s           t          v\n",
       "0  80.4625  80.5875  79.3025  79.43750  ok  1590969600   81018612\n",
       "1  80.8350  80.8600  79.7325  80.18625  ok  1591056000   87642816\n",
       "2  81.2800  81.5500  80.5750  81.16500  ok  1591142400  104491216\n",
       "3  80.5800  81.4050  80.1950  81.09750  ok  1591228800   87560364\n",
       "4  82.8750  82.9375  80.8075  80.83750  ok  1591315200  137250200\n",
       "5  83.3650  83.4000  81.8300  82.56250  ok  1591574400   95654536\n",
       "6  85.9975  86.4025  83.0025  83.03500  ok  1591660800  147712364\n",
       "7  88.2100  88.6925  86.5225  86.97500  ok  1591747200  166651752\n",
       "8  83.9750  87.7650  83.8700  87.32750  ok  1591833600  201662452"
      ]
     },
     "execution_count": 5,
     "metadata": {},
     "output_type": "execute_result"
    }
   ],
   "source": [
    "df = pd.DataFrame(res)\n",
    "df"
   ]
  },
  {
   "cell_type": "code",
   "execution_count": 6,
   "id": "f718b3ec-7ff7-48d9-87ac-25fb40096519",
   "metadata": {},
   "outputs": [
    {
     "data": {
      "text/plain": [
       "c    float64\n",
       "h    float64\n",
       "l    float64\n",
       "o    float64\n",
       "s     object\n",
       "t      int64\n",
       "v      int64\n",
       "dtype: object"
      ]
     },
     "execution_count": 6,
     "metadata": {},
     "output_type": "execute_result"
    }
   ],
   "source": [
    "df.dtypes"
   ]
  },
  {
   "cell_type": "code",
   "execution_count": 7,
   "id": "8f52eb77-c43e-4976-ab72-f8a18969480a",
   "metadata": {},
   "outputs": [
    {
     "data": {
      "text/html": [
       "<div>\n",
       "<style scoped>\n",
       "    .dataframe tbody tr th:only-of-type {\n",
       "        vertical-align: middle;\n",
       "    }\n",
       "\n",
       "    .dataframe tbody tr th {\n",
       "        vertical-align: top;\n",
       "    }\n",
       "\n",
       "    .dataframe thead th {\n",
       "        text-align: right;\n",
       "    }\n",
       "</style>\n",
       "<table border=\"1\" class=\"dataframe\">\n",
       "  <thead>\n",
       "    <tr style=\"text-align: right;\">\n",
       "      <th></th>\n",
       "      <th>metric</th>\n",
       "      <th>metricType</th>\n",
       "      <th>series</th>\n",
       "      <th>symbol</th>\n",
       "    </tr>\n",
       "  </thead>\n",
       "  <tbody>\n",
       "    <tr>\n",
       "      <th>10DayAverageTradingVolume</th>\n",
       "      <td>58.73874</td>\n",
       "      <td>all</td>\n",
       "      <td>NaN</td>\n",
       "      <td>AAPL</td>\n",
       "    </tr>\n",
       "    <tr>\n",
       "      <th>13WeekPriceReturnDaily</th>\n",
       "      <td>4.45976</td>\n",
       "      <td>all</td>\n",
       "      <td>NaN</td>\n",
       "      <td>AAPL</td>\n",
       "    </tr>\n",
       "    <tr>\n",
       "      <th>26WeekPriceReturnDaily</th>\n",
       "      <td>-5.6364</td>\n",
       "      <td>all</td>\n",
       "      <td>NaN</td>\n",
       "      <td>AAPL</td>\n",
       "    </tr>\n",
       "    <tr>\n",
       "      <th>3MonthAverageTradingVolume</th>\n",
       "      <td>1480.10749</td>\n",
       "      <td>all</td>\n",
       "      <td>NaN</td>\n",
       "      <td>AAPL</td>\n",
       "    </tr>\n",
       "    <tr>\n",
       "      <th>52WeekHigh</th>\n",
       "      <td>179.61</td>\n",
       "      <td>all</td>\n",
       "      <td>NaN</td>\n",
       "      <td>AAPL</td>\n",
       "    </tr>\n",
       "    <tr>\n",
       "      <th>52WeekHighDate</th>\n",
       "      <td>2022-03-30</td>\n",
       "      <td>all</td>\n",
       "      <td>NaN</td>\n",
       "      <td>AAPL</td>\n",
       "    </tr>\n",
       "    <tr>\n",
       "      <th>52WeekLow</th>\n",
       "      <td>124.18</td>\n",
       "      <td>all</td>\n",
       "      <td>NaN</td>\n",
       "      <td>AAPL</td>\n",
       "    </tr>\n",
       "    <tr>\n",
       "      <th>52WeekLowDate</th>\n",
       "      <td>2023-01-03</td>\n",
       "      <td>all</td>\n",
       "      <td>NaN</td>\n",
       "      <td>AAPL</td>\n",
       "    </tr>\n",
       "    <tr>\n",
       "      <th>52WeekPriceReturnDaily</th>\n",
       "      <td>-6.32097</td>\n",
       "      <td>all</td>\n",
       "      <td>NaN</td>\n",
       "      <td>AAPL</td>\n",
       "    </tr>\n",
       "    <tr>\n",
       "      <th>5DayPriceReturnDaily</th>\n",
       "      <td>-1.67516</td>\n",
       "      <td>all</td>\n",
       "      <td>NaN</td>\n",
       "      <td>AAPL</td>\n",
       "    </tr>\n",
       "  </tbody>\n",
       "</table>\n",
       "</div>"
      ],
      "text/plain": [
       "                                metric metricType series symbol\n",
       "10DayAverageTradingVolume     58.73874        all    NaN   AAPL\n",
       "13WeekPriceReturnDaily         4.45976        all    NaN   AAPL\n",
       "26WeekPriceReturnDaily         -5.6364        all    NaN   AAPL\n",
       "3MonthAverageTradingVolume  1480.10749        all    NaN   AAPL\n",
       "52WeekHigh                      179.61        all    NaN   AAPL\n",
       "52WeekHighDate              2022-03-30        all    NaN   AAPL\n",
       "52WeekLow                       124.18        all    NaN   AAPL\n",
       "52WeekLowDate               2023-01-03        all    NaN   AAPL\n",
       "52WeekPriceReturnDaily        -6.32097        all    NaN   AAPL\n",
       "5DayPriceReturnDaily          -1.67516        all    NaN   AAPL"
      ]
     },
     "execution_count": 7,
     "metadata": {},
     "output_type": "execute_result"
    }
   ],
   "source": [
    "# financials \n",
    "financials = finnhub_client.company_basic_financials('AAPL', 'all')\n",
    "df_financials = pd.DataFrame(financials)\n",
    "df_financials.head(10)"
   ]
  },
  {
   "cell_type": "code",
   "execution_count": 8,
   "id": "3298fe00-a46e-4f9a-a468-e6e38fd416b6",
   "metadata": {},
   "outputs": [],
   "source": [
    "# Symbol lookup\n",
    "\n",
    "# pprint makes dictionaries pretty\n",
    "import pprint\n",
    "\n",
    "company = \"Nintendo\"\n",
    "symbol_lookup = finnhub_client.symbol_lookup(company)\n",
    "#pprint.pprint(symbol_lookup)"
   ]
  },
  {
   "cell_type": "code",
   "execution_count": 9,
   "id": "78176067-c265-49f6-a47d-ef19f309b47a",
   "metadata": {},
   "outputs": [],
   "source": [
    "# company news\n",
    "\n",
    "company_news = finnhub_client.general_news(\"general\", min_id=0)\n",
    "#pprint.pprint(company_news)"
   ]
  },
  {
   "cell_type": "code",
   "execution_count": 22,
   "id": "337773ba-ddf7-4fc7-9096-d68f5f6369a4",
   "metadata": {},
   "outputs": [
    {
     "name": "stdout",
     "output_type": "stream",
     "text": [
      "[{'category': 'company',\n",
      "  'datetime': 1679084700,\n",
      "  'headline': 'First Republic, FedEx, Sarepta, XPeng, RingCentral, and More '\n",
      "              'Stock Market Movers',\n",
      "  'id': 119295106,\n",
      "  'image': 'https://s.yimg.com/ny/api/res/1.2/j5YkM1KA1ygaFDzleLBliA--/YXBwaWQ9aGlnaGxhbmRlcjt3PTEyMDA7aD02MDA-/https://media.zenfs.com/en/Barrons.com/bc90bcda788806e59099eb648bfae05b',\n",
      "  'related': 'X',\n",
      "  'source': 'Yahoo',\n",
      "  'summary': 'A consortium of the biggest U.S. banks agreed to make uninsured '\n",
      "             'deposits totaling $30 billion in beleaguered First Republic '\n",
      "             \"Bank, and quarterly earnings at FedEx easily topped analysts' \"\n",
      "             'estimates.',\n",
      "  'url': 'https://finnhub.io/api/news?id=b89ae6034c5fa2f37de7faaaa0dc251eaa1ab211908da31b9e737578b4b93f9d'},\n",
      " {'category': 'company',\n",
      "  'datetime': 1679064352,\n",
      "  'headline': 'Why Nucor, Cleveland-Cliffs, and Steel Dynamics Plunged This '\n",
      "              'Week',\n",
      "  'id': 119291442,\n",
      "  'image': 'https://s.yimg.com/ny/api/res/1.2/NQDzzSpnARdKc6p2U4K8ig--/YXBwaWQ9aGlnaGxhbmRlcjt3PTEyMDA7aD03OTc-/https://media.zenfs.com/en/motleyfool.com/01135983aef38dd6850229c0b088e36b',\n",
      "  'related': 'X',\n",
      "  'source': 'Yahoo',\n",
      "  'summary': \"Steel stocks don't necessarily have a direct correlation to the \"\n",
      "             'financial sector and the regional banks that dominated the news '\n",
      "             'this past week.  As of early Friday morning, Nucor and '\n",
      "             \"Cleveland-Cliffs had each dropped about 8% since last week's \"\n",
      "             'close, and Steel Dynamics was lower by about 12%, according to '\n",
      "             'data provided by S&P Global Market Intelligence.',\n",
      "  'url': 'https://finnhub.io/api/news?id=e6c191955ef0ae165cee8e1157b446803603a2b92339dad7d073f5170ebcaea1'},\n",
      " {'category': 'company',\n",
      "  'datetime': 1679060822,\n",
      "  'headline': 'United States Steel stock rises on better-than-expected Q1 '\n",
      "              'earnings guidance',\n",
      "  'id': 119295787,\n",
      "  'image': 'https://s.yimg.com/ny/api/res/1.2/YLPvSj2FRmltgnllAv2iKQ--/YXBwaWQ9aGlnaGxhbmRlcjt3PTEyMDA7aD02NzU-/https://s.yimg.com/os/creatr-uploaded-images/2023-03/2a8ff9f0-c4ca-11ed-b667-0cff5011fa22',\n",
      "  'related': 'X',\n",
      "  'source': 'Yahoo',\n",
      "  'summary': 'Yahoo Finance Live anchors Julie Hyman and Brad Smith discuss '\n",
      "             'the rise in stock for United States Steel.',\n",
      "  'url': 'https://finnhub.io/api/news?id=27655a3867629d80d0815eb24d5274be6803ead950a9032f29ee5390173838ca'},\n",
      " {'category': 'company',\n",
      "  'datetime': 1679060401,\n",
      "  'headline': 'Is United States Steel (X) Stock Undervalued Right Now?',\n",
      "  'id': 119295788,\n",
      "  'image': 'https://media.zenfs.com/en/zacks.com/078b2d95159d12a337f09f2519ff10ba',\n",
      "  'related': 'X',\n",
      "  'source': 'Yahoo',\n",
      "  'summary': 'Here at Zacks, our focus is on the proven Zacks Rank system, '\n",
      "             'which emphasizes earnings estimates and estimate revisions to '\n",
      "             'find great stocks. Nevertheless, we are always paying attention '\n",
      "             'to the latest value, growth, and momentum trends to underscore '\n",
      "             'strong picks.',\n",
      "  'url': 'https://finnhub.io/api/news?id=a03af04c20d1f338e49e2b1e1e83ff2770c68f8f0995e50314080dc0cb0bb719'},\n",
      " {'category': 'company',\n",
      "  'datetime': 1679050980,\n",
      "  'headline': 'What You Missed On Wall Street This Morning',\n",
      "  'id': 119292375,\n",
      "  'image': '',\n",
      "  'related': 'X',\n",
      "  'source': 'Thefly.com',\n",
      "  'summary': 'Looking for stock market analysis and research with proves '\n",
      "             'results? Zacks.com offers in-depth financial research with over '\n",
      "             '30years of proven results.',\n",
      "  'url': 'https://finnhub.io/api/news?id=d56645d1c6f3c27f10ef5647e2e35cf1cbb28487dfec4559bed3f1e261211fc9'},\n",
      " {'category': 'company',\n",
      "  'datetime': 1679045340,\n",
      "  'headline': 'U.S. Steel Stock Is Surging. Its Forecast Bodes Well for Other '\n",
      "              'Steelmakers.',\n",
      "  'id': 119290564,\n",
      "  'image': 'https://s.yimg.com/ny/api/res/1.2/ngjyXIzPDpnsrbK7Wl5AaA--/YXBwaWQ9aGlnaGxhbmRlcjt3PTEyMDA7aD02MDA-/https://media.zenfs.com/en/Barrons.com/7356ca18c1ac878297be28d75c2d82f4',\n",
      "  'related': 'X',\n",
      "  'source': 'Yahoo',\n",
      "  'summary': 'The company flags higher flat-rolled steel demand in North '\n",
      "             'America, an indicator of strong activity from manufacturers.',\n",
      "  'url': 'https://finnhub.io/api/news?id=3d7993145662c083b6b506149d4b5e9af2b60708177065d8f2e386616ed68584'},\n",
      " {'category': 'company',\n",
      "  'datetime': 1679039760,\n",
      "  'headline': 'Fly Intel: Pre-market Movers',\n",
      "  'id': 119292376,\n",
      "  'image': '',\n",
      "  'related': 'X',\n",
      "  'source': 'Thefly.com',\n",
      "  'summary': 'Looking for stock market analysis and research with proves '\n",
      "             'results? Zacks.com offers in-depth financial research with over '\n",
      "             '30years of proven results.',\n",
      "  'url': 'https://finnhub.io/api/news?id=a30f7762e3c97c0465f495528c13554299ab7fcc38d50d763cbadf27d82783d8'},\n",
      " {'category': 'company',\n",
      "  'datetime': 1679027100,\n",
      "  'headline': 'United States Steel (X) Gets a Sell from Bank of America '\n",
      "              'Securities',\n",
      "  'id': 119292377,\n",
      "  'image': '',\n",
      "  'related': 'X',\n",
      "  'source': 'TipRanks',\n",
      "  'summary': 'Looking for stock market analysis and research with proves '\n",
      "             'results? Zacks.com offers in-depth financial research with over '\n",
      "             '30years of proven results.',\n",
      "  'url': 'https://finnhub.io/api/news?id=3f0a6d6b7d18ac4326d9ba237549517b82afc5234b99a5eee78bf438f92cf136'}]\n"
     ]
    }
   ],
   "source": [
    "## company news \n",
    "\n",
    "company_news = finnhub_client.company_news('x', _from=\"2023-03-17\", to=\"2023-03-18\")\n",
    "\n",
    "pprint.pprint(company_news)"
   ]
  },
  {
   "cell_type": "code",
   "execution_count": null,
   "id": "92832435-3cad-4ef2-8f99-9ac3e8c7db12",
   "metadata": {},
   "outputs": [],
   "source": []
  },
  {
   "cell_type": "code",
   "execution_count": null,
   "id": "a954feaa-1703-4ea0-89dc-d814d5d27a90",
   "metadata": {},
   "outputs": [],
   "source": []
  },
  {
   "cell_type": "code",
   "execution_count": null,
   "id": "cf067eb8-a4c9-4a70-bf71-6632bf9dbba8",
   "metadata": {},
   "outputs": [],
   "source": []
  },
  {
   "cell_type": "markdown",
   "id": "bd9943b0-97e1-4f16-85b0-5e366859c251",
   "metadata": {},
   "source": [
    "# Sources \n",
    "\n",
    "Top 12 STOCK API: <br> <a href=\"https://geekflare.com/best-stock-market-api/\" target=\"_blank\"> Top 12 Stock API </a>\n",
    "<ul>\n",
    "    <li>Finnhub documentation: <a href=\"https://github.com/Finnhub-Stock-API/finnhub-python\" target=\"_blank\"> finn doc </a>\n",
    "</ul>    "
   ]
  },
  {
   "cell_type": "code",
   "execution_count": null,
   "id": "2fdd7aba-89ed-4b95-ab04-64f9e8ae93f8",
   "metadata": {},
   "outputs": [],
   "source": []
  }
 ],
 "metadata": {
  "kernelspec": {
   "display_name": "Python 3 (ipykernel)",
   "language": "python",
   "name": "python3"
  },
  "language_info": {
   "codemirror_mode": {
    "name": "ipython",
    "version": 3
   },
   "file_extension": ".py",
   "mimetype": "text/x-python",
   "name": "python",
   "nbconvert_exporter": "python",
   "pygments_lexer": "ipython3",
   "version": "3.9.12"
  }
 },
 "nbformat": 4,
 "nbformat_minor": 5
}
